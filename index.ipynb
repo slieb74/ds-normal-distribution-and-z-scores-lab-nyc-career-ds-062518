{
 "cells": [
  {
   "cell_type": "markdown",
   "metadata": {},
   "source": [
    "# Normal Distribution & Z-Scores Lab\n",
    "\n",
    "## Problem Description\n",
    "In this lab, we'll learn about how to calculate and interpret Z-scores with the Normal and Standard Normal Distribution. \n",
    "\n",
    "### Objectives\n",
    "* Transform a normally distributed sample or population to the Standard Normal Distribution\n",
    "* Calculate and interpret the Z-score for a given value in a Standard Normal Distribution\n",
    "* Use Z-scores to make inferences about a normally distributed dataset\n",
    "* Use Cumulative Density functions to infer the probability mass of given samples\n",
    "\n",
    "### Z-Scores and The Normal Distribution\n",
    "\n",
    "Z-scores are one of the main reasons the Normal Distribution is so useful.  Z-scores represent an easy way for us to quickly tell how many standard deviations a value is from the mean, which empowers us to quickly answer questions such as the probability of a specific value (_point probablility_), or the percentage of values in the dataset greater than or less than a given value (_cumulative probability_).  \n",
    "\n",
    "Take a look at the following diagram:\n",
    "\n",
    "<center><img src='The_Normal_Distribution.png'>\n",
    "[image source](http://www.statisticshowto.com/probability-and-statistics/hypothesis-testing/t-score-vs-z-score/)</center>"
   ]
  },
  {
   "cell_type": "markdown",
   "metadata": {},
   "source": [
    "### Interpreting a Z-Score\n",
    "\n",
    "Important things to note about the diagram above:\n",
    "\n",
    "* 100% of the data is found under the \"bell curve\" line.\n",
    "\n",
    "* The distribution is symmetrical.  \n",
    "\n",
    "* 99.7% of all data falls within 3 standard deviations of the mean.  \n",
    "\n",
    "Z-scores are just a measure of how many standard deviations away from the mean it is.  If a Z-score is positive, then we know it is greater than the mean, whereas values smaller than the mean will have a negative Z-score.  \n",
    "\n",
    "Since the distribution is symmetrical, we can also easily calculate the **_Cumulative Density_**.   We can use this to tell us what percentage of the population falls to the left or the right of a given value."
   ]
  },
  {
   "cell_type": "markdown",
   "metadata": {},
   "source": [
    "### Calculating a Z-score\n",
    "\n",
    "Recall that the formula for calculating a Z-score for a given value is: \n",
    "\n",
    "<center><img src='z-score-formula.png'></center>\n",
    "\n",
    "Where:\n",
    "\n",
    "$x = value$\n",
    "\n",
    "$\\mu = Population\\ Mean$\n",
    "\n",
    "$\\sigma = Population\\ Standard\\ Deviation$ \n",
    "\n",
    "In the cell below, write a function that takes in an array of data and a value and returns the z-score for that value.  \n",
    "\n"
   ]
  },
  {
   "cell_type": "code",
   "execution_count": 25,
   "metadata": {},
   "outputs": [],
   "source": [
    "# Run this cell to import everything we'll need for this lab\n",
    "import numpy as np\n",
    "import scipy\n",
    "import matplotlib.pyplot as plt\n",
    "%matplotlib inline\n",
    "import seaborn as sns\n",
    "# Do not change the random seed, or you'll break things!\n",
    "np.random.seed(0)"
   ]
  },
  {
   "cell_type": "code",
   "execution_count": 26,
   "metadata": {},
   "outputs": [
    {
     "name": "stdout",
     "output_type": "stream",
     "text": [
      "-0.7631465574632231\n",
      "-2.14186850501324\n"
     ]
    }
   ],
   "source": [
    "def calculate_z_score_from_data(data, value):\n",
    "    num= value - np.mean(data)\n",
    "    denom = np.std(data)\n",
    "    z = num/denom\n",
    "    return z\n",
    "\n",
    "test1 = np.random.normal(5, 3, 10)\n",
    "print(calculate_z_score_from_data(test1, 5)) # -0.7631465574632231\n",
    "print(calculate_z_score_from_data(test1, 1)) # -2.14186850501324"
   ]
  },
  {
   "cell_type": "markdown",
   "metadata": {},
   "source": [
    "### Calculating Z-score with Mean and Standard Deviation Values\n",
    "\n",
    "Obviously, if we already know the standard deviation and mean of a sample or population, computing the z-score for a given value becomes a simple task. \n",
    "\n",
    "In the cell below, write a function that takes in arguments for mean, standard deviation, and a value, and returns the z-score for that value.  "
   ]
  },
  {
   "cell_type": "code",
   "execution_count": 27,
   "metadata": {},
   "outputs": [
    {
     "name": "stdout",
     "output_type": "stream",
     "text": [
      "-1.0\n",
      "1.5\n"
     ]
    }
   ],
   "source": [
    "def calculate_z_score_from_values(mean, std, value):\n",
    "    z = (value-mean)/std\n",
    "    return z\n",
    "\n",
    "print(calculate_z_score_from_values(5, 1, 4)) # -1\n",
    "print(calculate_z_score_from_values(5, 1, 6.5)) # 1.5"
   ]
  },
  {
   "cell_type": "markdown",
   "metadata": {},
   "source": [
    "### Normal vs. Standard Normal Distribution\n",
    "\n",
    "Often, we'll want to **_normalize_** an entire dataset by converting all values to their corresponding z-scores.  In statistical terms, this is converting a normally distributed dataset to the **_Standard Normal Distribution_**.  The Standard Normal Distribution always has a mean of zero, and standard deviation of 1.  In essence, by normalizing a dataset, we are just shifting it.  \n",
    "\n",
    "It is important to note that in order to transform a dataset to standard normal, it must first be normally distributed.  If our dataset is not normally distributed, we can still do this by taking advantage of the **_Central Limit Theorem_**--more on this in the next lab.  \n",
    "\n",
    "For now, we'll concern ourselves with converting normally distributed datasets into Standard Normal form. \n",
    "\n",
    "In the cell below, write a function that takes in an array of normally distributed data and returns a normalized version of the same dataset, where all values have been converted to their corresponding z-scores.  "
   ]
  },
  {
   "cell_type": "code",
   "execution_count": 28,
   "metadata": {},
   "outputs": [
    {
     "data": {
      "text/plain": [
       "[1.0609567070463128,\n",
       " -0.34936741322854586,\n",
       " 0.24890909722735877,\n",
       " 1.5540299194277436,\n",
       " 1.1679858345433962,\n",
       " -1.7736924038437911,\n",
       " 0.21928425755347297,\n",
       " -0.9196561862131748,\n",
       " -0.869879129739741,\n",
       " -0.338570682773029]"
      ]
     },
     "execution_count": 28,
     "metadata": {},
     "output_type": "execute_result"
    }
   ],
   "source": [
    "def normalize(data):\n",
    "    z_arr=[]\n",
    "    for datum in data:\n",
    "        z_arr.append((datum-np.mean(data))/np.std(data))\n",
    "    return z_arr\n",
    "\n",
    "normalize(test1) "
   ]
  },
  {
   "cell_type": "markdown",
   "metadata": {},
   "source": [
    "**_Expected Output:_**\n",
    "```[-1.2266644368964434,\n",
    " 1.1834768969042264,\n",
    " -0.5037146822591747,\n",
    " -1.7626173670982563,\n",
    " 0.4033482369241084,\n",
    " 1.2613410989475338,\n",
    " 0.5813305883085411,\n",
    " 1.024794279174945,\n",
    " -0.7358579324798615,\n",
    " -0.2254366815256156]\n",
    " ```"
   ]
  },
  {
   "cell_type": "markdown",
   "metadata": {},
   "source": [
    "### Probability Density & Cumulative Density Functions\n",
    "\n",
    "Often times, it's preferable to know what percentage of the data fits within a certain set of constraints--for instance, questions such as:\n",
    "\n",
    "* What percentage of people are between the 5'9\" and 6'0\" tall?\n",
    "* What percentage of people have a shoe size of 10?\n",
    "* What percentage of people have an IQ of 115 or higher?\n",
    "* What percentage of tires will fail before [x] miles?\n",
    "\n",
    "These are all questions that can be answered using the normal distribution and **_Density Functions_**.  Before computers, calculating the cumulative density would require finding the z-score of a value and then using an unweildy formula or a massive reference table. Luckily, we can make use of the `scipy.stats` package to make things easy for us!\n",
    "\n",
    "Note that the concept of probability density is not limited only to normally distributed data--however, because the normal distribution is so well studied, it is something that is used quite often.  With only the mean and standard deviation, we can quickly know exactly how likely something is in a distribution.  \n",
    "\n",
    "#### Practice Problem 1: Cumulative Density\n",
    "\n",
    "To answer questions about what percentage of the data is to the left of a specific value, we use **_Cumulative Density Functions_**.\n",
    "\n",
    "In the cell below, use the cumulative density function (cdf, for short) included in [scipy](https://docs.scipy.org/doc/scipy-0.16.1/reference/generated/scipy.stats.norm.html) to answer the following question:\n",
    "\n",
    "The mean height of adult men is 5'10\", with a standard deviation of four inches.  What percentage of adult males are 6'1\" or shorter?"
   ]
  },
  {
   "cell_type": "code",
   "execution_count": 29,
   "metadata": {},
   "outputs": [
    {
     "name": "stdout",
     "output_type": "stream",
     "text": [
      "77.34% of adult males are 6'1\" or shorter\n"
     ]
    }
   ],
   "source": [
    "men_mean = 70  # inches\n",
    "men_std = 4 # inches\n",
    "percent_shorter = scipy.stats.norm.cdf(73,men_mean,men_std)\n",
    "\n",
    "print(\"{:.4}% of adult males are 6'1\\\" or shorter\".format(percent_shorter * 100)) # answer: 77.34%"
   ]
  },
  {
   "cell_type": "markdown",
   "metadata": {},
   "source": [
    "#### Practice Problem 2: Survival Function\n",
    "\n",
    "To calculate what percentage of the data is to the right of a value, we can use a **_Survival Function_**, which is also equivalent to `(1 - cdf)`.  \n",
    "\n",
    "In the cell below, use the survival function (sf, for short) included in scipy to answer the following question:\n",
    "\n",
    "The mean height for women is 5'4\", with a standard deviation of 3.5 inches.  What percentage of women are 5'8\" or taller?"
   ]
  },
  {
   "cell_type": "code",
   "execution_count": 32,
   "metadata": {},
   "outputs": [
    {
     "name": "stdout",
     "output_type": "stream",
     "text": [
      "12.65% of adult females are 5'8\" or taller\n"
     ]
    }
   ],
   "source": [
    "women_mean = 64\n",
    "women_std = 3.5\n",
    "percent_taller = 1-(scipy.stats.norm.cdf(68,women_mean,women_std))\n",
    "\n",
    "print(\"{:.4}% of adult females are 5'8\\\" or taller\".format(percent_taller * 100)) # answer: 12.65%"
   ]
  },
  {
   "cell_type": "markdown",
   "metadata": {},
   "source": [
    "#### Practice Problem 3: Probability Mass of a Range of Values\n",
    "\n",
    "Often times, we'll want to know the probability mass of values in a certain range.  For instance, what if we wanted to know what percentage of people have an IQ between 80 and 120?  It helps to visualize this to formulate our problem--what percentage of the area under the curve is red?\n",
    "\n",
    "<center><img src='probability_range.png' height=50% width=50%></center>\n",
    "\n",
    "The mean IQ is 100, with a standard deviation of 15.  Using the functions you learned above, figure out a way to calculate what percentage of people fall between an IQ of 80 and 120.  "
   ]
  },
  {
   "cell_type": "code",
   "execution_count": 34,
   "metadata": {},
   "outputs": [
    {
     "name": "stdout",
     "output_type": "stream",
     "text": [
      "81.76% of people have an IQ between 80 and 120\n"
     ]
    }
   ],
   "source": [
    "lower_bound = scipy.stats.norm.cdf(80,100,15)\n",
    "upper_bound = scipy.stats.norm.cdf(120,100,15)\n",
    "probability_mass = upper_bound - lower_bound \n",
    "\n",
    "print(\"{:.4}% of people have an IQ between 80 and 120\".format(probability_mass * 100)) # answer: 81.76%"
   ]
  },
  {
   "cell_type": "markdown",
   "metadata": {},
   "source": [
    "### Conclusion\n",
    "\n",
    "In this lab, we learned how to:\n",
    "* Transform a normally distributed sample or population to the Standard Normal Distribution\n",
    "* Calculate and interpret the Z-score for a given value in a Standard Normal Distribution\n",
    "* Use Z-scores to make inferences about a normally distributed dataset\n",
    "* Use Cumulative Density functions to infer the probability mass of given samples"
   ]
  }
 ],
 "metadata": {
  "kernelspec": {
   "display_name": "Python 3",
   "language": "python",
   "name": "python3"
  },
  "language_info": {
   "codemirror_mode": {
    "name": "ipython",
    "version": 3
   },
   "file_extension": ".py",
   "mimetype": "text/x-python",
   "name": "python",
   "nbconvert_exporter": "python",
   "pygments_lexer": "ipython3",
   "version": "3.6.4"
  }
 },
 "nbformat": 4,
 "nbformat_minor": 2
}
